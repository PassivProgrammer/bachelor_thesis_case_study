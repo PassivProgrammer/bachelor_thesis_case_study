{
 "cells": [
  {
   "cell_type": "code",
   "execution_count": 1,
   "metadata": {},
   "outputs": [],
   "source": [
    "import numpy as np\n",
    "import pandas as pd\n",
    "import matplotlib.pyplot as plt"
   ]
  },
  {
   "cell_type": "code",
   "execution_count": 2,
   "metadata": {},
   "outputs": [
    {
     "data": {
      "text/html": [
       "<div>\n",
       "<style scoped>\n",
       "    .dataframe tbody tr th:only-of-type {\n",
       "        vertical-align: middle;\n",
       "    }\n",
       "\n",
       "    .dataframe tbody tr th {\n",
       "        vertical-align: top;\n",
       "    }\n",
       "\n",
       "    .dataframe thead th {\n",
       "        text-align: right;\n",
       "    }\n",
       "</style>\n",
       "<table border=\"1\" class=\"dataframe\">\n",
       "  <thead>\n",
       "    <tr style=\"text-align: right;\">\n",
       "      <th></th>\n",
       "      <th>Unnamed: 0.1</th>\n",
       "      <th>Unnamed: 0</th>\n",
       "      <th>Trip ID</th>\n",
       "      <th>Trip Start Timestamp</th>\n",
       "      <th>Trip End Timestamp</th>\n",
       "      <th>Trip Seconds</th>\n",
       "      <th>Trip Miles</th>\n",
       "      <th>Trips Pooled</th>\n",
       "      <th>Pickup Centroid Latitude</th>\n",
       "      <th>Pickup Centroid Longitude</th>\n",
       "      <th>Dropoff Centroid Latitude</th>\n",
       "      <th>Dropoff Centroid Longitude</th>\n",
       "    </tr>\n",
       "  </thead>\n",
       "  <tbody>\n",
       "    <tr>\n",
       "      <th>0</th>\n",
       "      <td>1</td>\n",
       "      <td>10</td>\n",
       "      <td>01fb7b0a39770bf4030110323f25e564bd46deb0</td>\n",
       "      <td>2019-01-01</td>\n",
       "      <td>01/01/2019 12:00:00 AM</td>\n",
       "      <td>249.0</td>\n",
       "      <td>0.8</td>\n",
       "      <td>1</td>\n",
       "      <td>41.970245</td>\n",
       "      <td>-87.713435</td>\n",
       "      <td>41.964652</td>\n",
       "      <td>-87.721017</td>\n",
       "    </tr>\n",
       "  </tbody>\n",
       "</table>\n",
       "</div>"
      ],
      "text/plain": [
       "   Unnamed: 0.1  Unnamed: 0                                   Trip ID  \\\n",
       "0             1          10  01fb7b0a39770bf4030110323f25e564bd46deb0   \n",
       "\n",
       "  Trip Start Timestamp      Trip End Timestamp  Trip Seconds  Trip Miles  \\\n",
       "0           2019-01-01  01/01/2019 12:00:00 AM         249.0         0.8   \n",
       "\n",
       "   Trips Pooled  Pickup Centroid Latitude  Pickup Centroid Longitude  \\\n",
       "0             1                 41.970245                 -87.713435   \n",
       "\n",
       "   Dropoff Centroid Latitude  Dropoff Centroid Longitude  \n",
       "0                  41.964652                  -87.721017  "
      ]
     },
     "execution_count": 2,
     "metadata": {},
     "output_type": "execute_result"
    }
   ],
   "source": [
    "data = pd.read_csv(\"10_percent_clean.csv\", parse_dates=[\"Trip Start Timestamp\"])\n",
    "data.head(1)"
   ]
  },
  {
   "cell_type": "code",
   "execution_count": 3,
   "metadata": {},
   "outputs": [
    {
     "name": "stdout",
     "output_type": "stream",
     "text": [
      "<class 'pandas.core.frame.DataFrame'>\n",
      "RangeIndex: 43848 entries, 0 to 43847\n",
      "Data columns (total 4 columns):\n",
      " #   Column     Non-Null Count  Dtype         \n",
      "---  ------     --------------  -----         \n",
      " 0   date_time  43788 non-null  datetime64[ns]\n",
      " 1   max_temp   43788 non-null  float64       \n",
      " 2   min_temp   43788 non-null  float64       \n",
      " 3   precip     43790 non-null  float64       \n",
      "dtypes: datetime64[ns](1), float64(3)\n",
      "memory usage: 1.3 MB\n"
     ]
    }
   ],
   "source": [
    "#add weather data\n",
    "weather = pd.read_csv(\"weather_hourly_chicago.csv\", parse_dates=[\"date_time\"])\n",
    "weather.info()"
   ]
  },
  {
   "cell_type": "code",
   "execution_count": 4,
   "metadata": {},
   "outputs": [
    {
     "data": {
      "text/html": [
       "<div>\n",
       "<style scoped>\n",
       "    .dataframe tbody tr th:only-of-type {\n",
       "        vertical-align: middle;\n",
       "    }\n",
       "\n",
       "    .dataframe tbody tr th {\n",
       "        vertical-align: top;\n",
       "    }\n",
       "\n",
       "    .dataframe thead th {\n",
       "        text-align: right;\n",
       "    }\n",
       "</style>\n",
       "<table border=\"1\" class=\"dataframe\">\n",
       "  <thead>\n",
       "    <tr style=\"text-align: right;\">\n",
       "      <th></th>\n",
       "      <th>Trip Seconds</th>\n",
       "      <th>Trip Miles</th>\n",
       "      <th>Trips Pooled</th>\n",
       "      <th>Pickup Centroid Latitude</th>\n",
       "      <th>Pickup Centroid Longitude</th>\n",
       "      <th>Dropoff Centroid Latitude</th>\n",
       "      <th>Dropoff Centroid Longitude</th>\n",
       "      <th>max_temp</th>\n",
       "      <th>min_temp</th>\n",
       "      <th>precip</th>\n",
       "    </tr>\n",
       "  </thead>\n",
       "  <tbody>\n",
       "    <tr>\n",
       "      <th>count</th>\n",
       "      <td>1.035632e+07</td>\n",
       "      <td>1.035632e+07</td>\n",
       "      <td>1.035632e+07</td>\n",
       "      <td>1.035632e+07</td>\n",
       "      <td>1.035632e+07</td>\n",
       "      <td>1.035632e+07</td>\n",
       "      <td>1.035632e+07</td>\n",
       "      <td>1.035632e+07</td>\n",
       "      <td>1.035632e+07</td>\n",
       "      <td>1.035632e+07</td>\n",
       "    </tr>\n",
       "    <tr>\n",
       "      <th>mean</th>\n",
       "      <td>9.888126e+02</td>\n",
       "      <td>4.889871e+00</td>\n",
       "      <td>1.243186e+00</td>\n",
       "      <td>4.189185e+01</td>\n",
       "      <td>-8.766179e+01</td>\n",
       "      <td>4.189259e+01</td>\n",
       "      <td>-8.766375e+01</td>\n",
       "      <td>9.878927e+00</td>\n",
       "      <td>9.802515e+00</td>\n",
       "      <td>1.163537e-01</td>\n",
       "    </tr>\n",
       "    <tr>\n",
       "      <th>std</th>\n",
       "      <td>6.939861e+02</td>\n",
       "      <td>4.782713e+00</td>\n",
       "      <td>1.457325e+00</td>\n",
       "      <td>5.888837e-02</td>\n",
       "      <td>5.480127e-02</td>\n",
       "      <td>5.911214e-02</td>\n",
       "      <td>5.925789e-02</td>\n",
       "      <td>1.178937e+01</td>\n",
       "      <td>1.178438e+01</td>\n",
       "      <td>3.206487e-01</td>\n",
       "    </tr>\n",
       "    <tr>\n",
       "      <th>min</th>\n",
       "      <td>0.000000e+00</td>\n",
       "      <td>0.000000e+00</td>\n",
       "      <td>1.000000e+00</td>\n",
       "      <td>4.165022e+01</td>\n",
       "      <td>-8.791362e+01</td>\n",
       "      <td>4.165022e+01</td>\n",
       "      <td>-8.791362e+01</td>\n",
       "      <td>-3.060000e+01</td>\n",
       "      <td>-3.060000e+01</td>\n",
       "      <td>0.000000e+00</td>\n",
       "    </tr>\n",
       "    <tr>\n",
       "      <th>25%</th>\n",
       "      <td>5.130000e+02</td>\n",
       "      <td>1.700000e+00</td>\n",
       "      <td>1.000000e+00</td>\n",
       "      <td>4.187741e+01</td>\n",
       "      <td>-8.767531e+01</td>\n",
       "      <td>4.187867e+01</td>\n",
       "      <td>-8.767618e+01</td>\n",
       "      <td>1.100000e+00</td>\n",
       "      <td>6.000000e-01</td>\n",
       "      <td>0.000000e+00</td>\n",
       "    </tr>\n",
       "    <tr>\n",
       "      <th>50%</th>\n",
       "      <td>8.110000e+02</td>\n",
       "      <td>3.200000e+00</td>\n",
       "      <td>1.000000e+00</td>\n",
       "      <td>4.189322e+01</td>\n",
       "      <td>-8.764991e+01</td>\n",
       "      <td>4.189266e+01</td>\n",
       "      <td>-8.764991e+01</td>\n",
       "      <td>9.400000e+00</td>\n",
       "      <td>8.900000e+00</td>\n",
       "      <td>0.000000e+00</td>\n",
       "    </tr>\n",
       "    <tr>\n",
       "      <th>75%</th>\n",
       "      <td>1.259000e+03</td>\n",
       "      <td>6.200000e+00</td>\n",
       "      <td>1.000000e+00</td>\n",
       "      <td>4.192862e+01</td>\n",
       "      <td>-8.763096e+01</td>\n",
       "      <td>4.192897e+01</td>\n",
       "      <td>-8.763141e+01</td>\n",
       "      <td>2.000000e+01</td>\n",
       "      <td>2.000000e+01</td>\n",
       "      <td>0.000000e+00</td>\n",
       "    </tr>\n",
       "    <tr>\n",
       "      <th>max</th>\n",
       "      <td>7.044000e+04</td>\n",
       "      <td>2.766000e+02</td>\n",
       "      <td>4.097000e+03</td>\n",
       "      <td>4.202122e+01</td>\n",
       "      <td>-8.752995e+01</td>\n",
       "      <td>4.202122e+01</td>\n",
       "      <td>-8.752995e+01</td>\n",
       "      <td>3.500000e+01</td>\n",
       "      <td>3.500000e+01</td>\n",
       "      <td>1.000000e+00</td>\n",
       "    </tr>\n",
       "  </tbody>\n",
       "</table>\n",
       "</div>"
      ],
      "text/plain": [
       "       Trip Seconds    Trip Miles  Trips Pooled  Pickup Centroid Latitude  \\\n",
       "count  1.035632e+07  1.035632e+07  1.035632e+07              1.035632e+07   \n",
       "mean   9.888126e+02  4.889871e+00  1.243186e+00              4.189185e+01   \n",
       "std    6.939861e+02  4.782713e+00  1.457325e+00              5.888837e-02   \n",
       "min    0.000000e+00  0.000000e+00  1.000000e+00              4.165022e+01   \n",
       "25%    5.130000e+02  1.700000e+00  1.000000e+00              4.187741e+01   \n",
       "50%    8.110000e+02  3.200000e+00  1.000000e+00              4.189322e+01   \n",
       "75%    1.259000e+03  6.200000e+00  1.000000e+00              4.192862e+01   \n",
       "max    7.044000e+04  2.766000e+02  4.097000e+03              4.202122e+01   \n",
       "\n",
       "       Pickup Centroid Longitude  Dropoff Centroid Latitude  \\\n",
       "count               1.035632e+07               1.035632e+07   \n",
       "mean               -8.766179e+01               4.189259e+01   \n",
       "std                 5.480127e-02               5.911214e-02   \n",
       "min                -8.791362e+01               4.165022e+01   \n",
       "25%                -8.767531e+01               4.187867e+01   \n",
       "50%                -8.764991e+01               4.189266e+01   \n",
       "75%                -8.763096e+01               4.192897e+01   \n",
       "max                -8.752995e+01               4.202122e+01   \n",
       "\n",
       "       Dropoff Centroid Longitude      max_temp      min_temp        precip  \n",
       "count                1.035632e+07  1.035632e+07  1.035632e+07  1.035632e+07  \n",
       "mean                -8.766375e+01  9.878927e+00  9.802515e+00  1.163537e-01  \n",
       "std                  5.925789e-02  1.178937e+01  1.178438e+01  3.206487e-01  \n",
       "min                 -8.791362e+01 -3.060000e+01 -3.060000e+01  0.000000e+00  \n",
       "25%                 -8.767618e+01  1.100000e+00  6.000000e-01  0.000000e+00  \n",
       "50%                 -8.764991e+01  9.400000e+00  8.900000e+00  0.000000e+00  \n",
       "75%                 -8.763141e+01  2.000000e+01  2.000000e+01  0.000000e+00  \n",
       "max                 -8.752995e+01  3.500000e+01  3.500000e+01  1.000000e+00  "
      ]
     },
     "execution_count": 4,
     "metadata": {},
     "output_type": "execute_result"
    }
   ],
   "source": [
    "#merge\n",
    "data[\"year_hour\"] = data[\"Trip Start Timestamp\"].apply(lambda x: f\"{x.year}-{x.month}-{x.day}-{x.hour}\")\n",
    "weather[\"year_hour\"] = weather[\"date_time\"].apply(lambda x: f\"{x.year}-{x.month}-{x.day}-{x.hour}\")\n",
    "data_weather = data.merge(weather[[\"max_temp\",\"min_temp\",\"precip\", \"year_hour\"]], left_on=\"year_hour\",right_on=\"year_hour\", how=\"left\")\n",
    "data_weather.drop([\"year_hour\",\"Unnamed: 0.1\",\"Unnamed: 0\"], axis=1, inplace=True)\n",
    "data_weather[\"max_temp\"] = data_weather[\"max_temp\"].bfill()\n",
    "data_weather[\"min_temp\"] = data_weather[\"min_temp\"].bfill()\n",
    "data_weather[\"precip\"] = data_weather[\"precip\"].bfill()\n",
    "data_weather.dropna(inplace=True)\n",
    "data_weather.describe()"
   ]
  },
  {
   "cell_type": "code",
   "execution_count": 5,
   "metadata": {},
   "outputs": [],
   "source": [
    "#conveniece\n",
    "data_weather[\"Trip min\"] = data_weather[\"Trip Seconds\"].apply(lambda x:int(x/60))\n"
   ]
  },
  {
   "cell_type": "code",
   "execution_count": 6,
   "metadata": {},
   "outputs": [
    {
     "data": {
      "image/png": "[encoded data removed]",
      "text/plain": [
       "<Figure size 432x288 with 1 Axes>"
      ]
     },
     "metadata": {
      "needs_background": "light"
     },
     "output_type": "display_data"
    }
   ],
   "source": [
    "# trip time distribution\n",
    "plt.hist(data_weather[\"Trip min\"], bins=range(0,60))\n",
    "plt.show()"
   ]
  },
  {
   "cell_type": "code",
   "execution_count": 7,
   "metadata": {},
   "outputs": [
    {
     "data": {
      "image/png": "[encoded data removed]",
      "text/plain": [
       "<Figure size 432x288 with 1 Axes>"
      ]
     },
     "metadata": {
      "needs_background": "light"
     },
     "output_type": "display_data"
    }
   ],
   "source": [
    "plt.hist(data_weather[\"Trip Miles\"], bins=np.linspace(0,20,50))\n",
    "plt.show()"
   ]
  },
  {
   "cell_type": "code",
   "execution_count": 9,
   "metadata": {},
   "outputs": [],
   "source": [
    "#data_weather.to_csv(\"10_percent_weather.csv\")"
   ]
  }
 ],
 "metadata": {
  "kernelspec": {
   "display_name": "bachelor_data_discovery",
   "language": "python",
   "name": "bachelor_data_discovery"
  },
  "language_info": {
   "codemirror_mode": {
    "name": "ipython",
    "version": 3
   },
   "file_extension": ".py",
   "mimetype": "text/x-python",
   "name": "python",
   "nbconvert_exporter": "python",
   "pygments_lexer": "ipython3",
   "version": "3.9.11"
  },
  "orig_nbformat": 4
 },
 "nbformat": 4,
 "nbformat_minor": 2
}
