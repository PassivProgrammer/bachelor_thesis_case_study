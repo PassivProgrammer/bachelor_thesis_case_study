{
 "cells": [
  {
   "cell_type": "code",
   "execution_count": 1,
   "metadata": {},
   "outputs": [],
   "source": [
    "import pandas as pd\n",
    "import numpy as np"
   ]
  },
  {
   "cell_type": "code",
   "execution_count": 2,
   "metadata": {},
   "outputs": [],
   "source": [
    "raw_trips = pd.read_csv(\"10_percent_trips.csv\")"
   ]
  },
  {
   "cell_type": "code",
   "execution_count": 3,
   "metadata": {},
   "outputs": [
    {
     "data": {
      "text/html": [
       "<div>\n",
       "<style scoped>\n",
       "    .dataframe tbody tr th:only-of-type {\n",
       "        vertical-align: middle;\n",
       "    }\n",
       "\n",
       "    .dataframe tbody tr th {\n",
       "        vertical-align: top;\n",
       "    }\n",
       "\n",
       "    .dataframe thead th {\n",
       "        text-align: right;\n",
       "    }\n",
       "</style>\n",
       "<table border=\"1\" class=\"dataframe\">\n",
       "  <thead>\n",
       "    <tr style=\"text-align: right;\">\n",
       "      <th></th>\n",
       "      <th>Unnamed: 0</th>\n",
       "      <th>Trip Seconds</th>\n",
       "      <th>Trip Miles</th>\n",
       "      <th>Trips Pooled</th>\n",
       "      <th>Pickup Centroid Latitude</th>\n",
       "      <th>Pickup Centroid Longitude</th>\n",
       "      <th>Dropoff Centroid Latitude</th>\n",
       "      <th>Dropoff Centroid Longitude</th>\n",
       "    </tr>\n",
       "  </thead>\n",
       "  <tbody>\n",
       "    <tr>\n",
       "      <th>count</th>\n",
       "      <td>1.118480e+07</td>\n",
       "      <td>1.116369e+07</td>\n",
       "      <td>1.118427e+07</td>\n",
       "      <td>1.118480e+07</td>\n",
       "      <td>1.048746e+07</td>\n",
       "      <td>1.048746e+07</td>\n",
       "      <td>1.039946e+07</td>\n",
       "      <td>1.039946e+07</td>\n",
       "    </tr>\n",
       "    <tr>\n",
       "      <th>mean</th>\n",
       "      <td>5.592588e+07</td>\n",
       "      <td>1.098487e+03</td>\n",
       "      <td>6.264771e+00</td>\n",
       "      <td>1.234415e+00</td>\n",
       "      <td>4.189263e+01</td>\n",
       "      <td>-8.766712e+01</td>\n",
       "      <td>4.189332e+01</td>\n",
       "      <td>-8.766898e+01</td>\n",
       "    </tr>\n",
       "    <tr>\n",
       "      <th>std</th>\n",
       "      <td>3.228870e+07</td>\n",
       "      <td>7.931887e+02</td>\n",
       "      <td>6.997907e+00</td>\n",
       "      <td>1.407315e+00</td>\n",
       "      <td>6.121643e-02</td>\n",
       "      <td>6.302049e-02</td>\n",
       "      <td>6.132989e-02</td>\n",
       "      <td>6.668731e-02</td>\n",
       "    </tr>\n",
       "    <tr>\n",
       "      <th>min</th>\n",
       "      <td>8.000000e+00</td>\n",
       "      <td>0.000000e+00</td>\n",
       "      <td>0.000000e+00</td>\n",
       "      <td>1.000000e+00</td>\n",
       "      <td>4.165022e+01</td>\n",
       "      <td>-8.791362e+01</td>\n",
       "      <td>4.165022e+01</td>\n",
       "      <td>-8.791362e+01</td>\n",
       "    </tr>\n",
       "    <tr>\n",
       "      <th>25%</th>\n",
       "      <td>2.794433e+07</td>\n",
       "      <td>5.450000e+02</td>\n",
       "      <td>1.800000e+00</td>\n",
       "      <td>1.000000e+00</td>\n",
       "      <td>4.187741e+01</td>\n",
       "      <td>-8.768083e+01</td>\n",
       "      <td>4.187741e+01</td>\n",
       "      <td>-8.768351e+01</td>\n",
       "    </tr>\n",
       "    <tr>\n",
       "      <th>50%</th>\n",
       "      <td>5.594236e+07</td>\n",
       "      <td>8.840000e+02</td>\n",
       "      <td>3.800000e+00</td>\n",
       "      <td>1.000000e+00</td>\n",
       "      <td>4.189322e+01</td>\n",
       "      <td>-8.765177e+01</td>\n",
       "      <td>4.189322e+01</td>\n",
       "      <td>-8.765177e+01</td>\n",
       "    </tr>\n",
       "    <tr>\n",
       "      <th>75%</th>\n",
       "      <td>8.388699e+07</td>\n",
       "      <td>1.424000e+03</td>\n",
       "      <td>7.900000e+00</td>\n",
       "      <td>1.000000e+00</td>\n",
       "      <td>4.192908e+01</td>\n",
       "      <td>-8.763172e+01</td>\n",
       "      <td>4.192933e+01</td>\n",
       "      <td>-8.763172e+01</td>\n",
       "    </tr>\n",
       "    <tr>\n",
       "      <th>max</th>\n",
       "      <td>1.118507e+08</td>\n",
       "      <td>7.044000e+04</td>\n",
       "      <td>3.331000e+02</td>\n",
       "      <td>4.097000e+03</td>\n",
       "      <td>4.202122e+01</td>\n",
       "      <td>-8.752995e+01</td>\n",
       "      <td>4.202122e+01</td>\n",
       "      <td>-8.752995e+01</td>\n",
       "    </tr>\n",
       "  </tbody>\n",
       "</table>\n",
       "</div>"
      ],
      "text/plain": [
       "         Unnamed: 0  Trip Seconds    Trip Miles  Trips Pooled  \\\n",
       "count  1.118480e+07  1.116369e+07  1.118427e+07  1.118480e+07   \n",
       "mean   5.592588e+07  1.098487e+03  6.264771e+00  1.234415e+00   \n",
       "std    3.228870e+07  7.931887e+02  6.997907e+00  1.407315e+00   \n",
       "min    8.000000e+00  0.000000e+00  0.000000e+00  1.000000e+00   \n",
       "25%    2.794433e+07  5.450000e+02  1.800000e+00  1.000000e+00   \n",
       "50%    5.594236e+07  8.840000e+02  3.800000e+00  1.000000e+00   \n",
       "75%    8.388699e+07  1.424000e+03  7.900000e+00  1.000000e+00   \n",
       "max    1.118507e+08  7.044000e+04  3.331000e+02  4.097000e+03   \n",
       "\n",
       "       Pickup Centroid Latitude  Pickup Centroid Longitude  \\\n",
       "count              1.048746e+07               1.048746e+07   \n",
       "mean               4.189263e+01              -8.766712e+01   \n",
       "std                6.121643e-02               6.302049e-02   \n",
       "min                4.165022e+01              -8.791362e+01   \n",
       "25%                4.187741e+01              -8.768083e+01   \n",
       "50%                4.189322e+01              -8.765177e+01   \n",
       "75%                4.192908e+01              -8.763172e+01   \n",
       "max                4.202122e+01              -8.752995e+01   \n",
       "\n",
       "       Dropoff Centroid Latitude  Dropoff Centroid Longitude  \n",
       "count               1.039946e+07                1.039946e+07  \n",
       "mean                4.189332e+01               -8.766898e+01  \n",
       "std                 6.132989e-02                6.668731e-02  \n",
       "min                 4.165022e+01               -8.791362e+01  \n",
       "25%                 4.187741e+01               -8.768351e+01  \n",
       "50%                 4.189322e+01               -8.765177e+01  \n",
       "75%                 4.192933e+01               -8.763172e+01  \n",
       "max                 4.202122e+01               -8.752995e+01  "
      ]
     },
     "execution_count": 3,
     "metadata": {},
     "output_type": "execute_result"
    }
   ],
   "source": [
    "# Data overview\n",
    "raw_trips.describe()"
   ]
  },
  {
   "cell_type": "code",
   "execution_count": 4,
   "metadata": {},
   "outputs": [
    {
     "name": "stdout",
     "output_type": "stream",
     "text": [
      "<class 'pandas.core.frame.DataFrame'>\n",
      "RangeIndex: 11184799 entries, 0 to 11184798\n",
      "Data columns (total 11 columns):\n",
      " #   Column                      Dtype  \n",
      "---  ------                      -----  \n",
      " 0   Unnamed: 0                  int64  \n",
      " 1   Trip ID                     object \n",
      " 2   Trip Start Timestamp        object \n",
      " 3   Trip End Timestamp          object \n",
      " 4   Trip Seconds                float64\n",
      " 5   Trip Miles                  float64\n",
      " 6   Trips Pooled                int64  \n",
      " 7   Pickup Centroid Latitude    float64\n",
      " 8   Pickup Centroid Longitude   float64\n",
      " 9   Dropoff Centroid Latitude   float64\n",
      " 10  Dropoff Centroid Longitude  float64\n",
      "dtypes: float64(6), int64(2), object(3)\n",
      "memory usage: 938.7+ MB\n"
     ]
    }
   ],
   "source": [
    "# Data overview\n",
    "raw_trips.info()"
   ]
  },
  {
   "cell_type": "code",
   "execution_count": 5,
   "metadata": {},
   "outputs": [
    {
     "name": "stdout",
     "output_type": "stream",
     "text": [
      "<class 'pandas.core.frame.DataFrame'>\n",
      "Int64Index: 9685424 entries, 1 to 11184796\n",
      "Data columns (total 11 columns):\n",
      " #   Column                      Dtype  \n",
      "---  ------                      -----  \n",
      " 0   Unnamed: 0                  int64  \n",
      " 1   Trip ID                     object \n",
      " 2   Trip Start Timestamp        object \n",
      " 3   Trip End Timestamp          object \n",
      " 4   Trip Seconds                float64\n",
      " 5   Trip Miles                  float64\n",
      " 6   Trips Pooled                int64  \n",
      " 7   Pickup Centroid Latitude    float64\n",
      " 8   Pickup Centroid Longitude   float64\n",
      " 9   Dropoff Centroid Latitude   float64\n",
      " 10  Dropoff Centroid Longitude  float64\n",
      "dtypes: float64(6), int64(2), object(3)\n",
      "memory usage: 886.7+ MB\n"
     ]
    }
   ],
   "source": [
    "# null-free data\n",
    "null_free_trips = raw_trips.dropna()\n",
    "null_free_trips.info()"
   ]
  },
  {
   "cell_type": "code",
   "execution_count": 7,
   "metadata": {},
   "outputs": [],
   "source": [
    "#null_free_trips.to_csv(\"10_percent_clean.csv\")"
   ]
  }
 ],
 "metadata": {
  "interpreter": {
   "hash": "059bddb0784d00ee3f7da337261b54610984a8c3bd5cf6316d98da9ad69b7922"
  },
  "kernelspec": {
   "display_name": "bachelor_data_discovery",
   "language": "python",
   "name": "bachelor_data_discovery"
  },
  "language_info": {
   "codemirror_mode": {
    "name": "ipython",
    "version": 3
   },
   "file_extension": ".py",
   "mimetype": "text/x-python",
   "name": "python",
   "nbconvert_exporter": "python",
   "pygments_lexer": "ipython3",
   "version": "3.9.11"
  },
  "orig_nbformat": 4
 },
 "nbformat": 4,
 "nbformat_minor": 2
}
